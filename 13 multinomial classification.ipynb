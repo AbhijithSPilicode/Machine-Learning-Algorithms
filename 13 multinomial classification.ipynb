{
 "cells": [
  {
   "cell_type": "code",
   "execution_count": 25,
   "id": "4c987022",
   "metadata": {},
   "outputs": [],
   "source": [
    "           # MULTINOMIAL CLASSIFICATION"
   ]
  },
  {
   "cell_type": "code",
   "execution_count": 89,
   "id": "4a1d8685",
   "metadata": {},
   "outputs": [],
   "source": [
    "#classify gender of abalone based on other class"
   ]
  },
  {
   "cell_type": "code",
   "execution_count": 26,
   "id": "6bb6152a",
   "metadata": {},
   "outputs": [],
   "source": [
    "import pandas as pd\n",
    "import matplotlib.pyplot as plt\n",
    "data=pd.read_csv(\"C:\\\\Users\\\\user\\\\Downloads\\\\abalone.csv\")\n",
    "#abalone is marine snails"
   ]
  },
  {
   "cell_type": "code",
   "execution_count": 27,
   "id": "b1cd80ab",
   "metadata": {},
   "outputs": [
    {
     "data": {
      "text/html": [
       "<div>\n",
       "<style scoped>\n",
       "    .dataframe tbody tr th:only-of-type {\n",
       "        vertical-align: middle;\n",
       "    }\n",
       "\n",
       "    .dataframe tbody tr th {\n",
       "        vertical-align: top;\n",
       "    }\n",
       "\n",
       "    .dataframe thead th {\n",
       "        text-align: right;\n",
       "    }\n",
       "</style>\n",
       "<table border=\"1\" class=\"dataframe\">\n",
       "  <thead>\n",
       "    <tr style=\"text-align: right;\">\n",
       "      <th></th>\n",
       "      <th>Sex</th>\n",
       "      <th>Length</th>\n",
       "      <th>Diameter</th>\n",
       "      <th>Height</th>\n",
       "      <th>Whole weight</th>\n",
       "      <th>Shucked weight</th>\n",
       "      <th>Viscera weight</th>\n",
       "      <th>Shell weight</th>\n",
       "      <th>Rings</th>\n",
       "    </tr>\n",
       "  </thead>\n",
       "  <tbody>\n",
       "    <tr>\n",
       "      <th>0</th>\n",
       "      <td>M</td>\n",
       "      <td>0.455</td>\n",
       "      <td>0.365</td>\n",
       "      <td>0.095</td>\n",
       "      <td>0.5140</td>\n",
       "      <td>0.2245</td>\n",
       "      <td>0.1010</td>\n",
       "      <td>0.1500</td>\n",
       "      <td>15</td>\n",
       "    </tr>\n",
       "    <tr>\n",
       "      <th>1</th>\n",
       "      <td>M</td>\n",
       "      <td>0.350</td>\n",
       "      <td>0.265</td>\n",
       "      <td>0.090</td>\n",
       "      <td>0.2255</td>\n",
       "      <td>0.0995</td>\n",
       "      <td>0.0485</td>\n",
       "      <td>0.0700</td>\n",
       "      <td>7</td>\n",
       "    </tr>\n",
       "    <tr>\n",
       "      <th>2</th>\n",
       "      <td>F</td>\n",
       "      <td>0.530</td>\n",
       "      <td>0.420</td>\n",
       "      <td>0.135</td>\n",
       "      <td>0.6770</td>\n",
       "      <td>0.2565</td>\n",
       "      <td>0.1415</td>\n",
       "      <td>0.2100</td>\n",
       "      <td>9</td>\n",
       "    </tr>\n",
       "    <tr>\n",
       "      <th>3</th>\n",
       "      <td>M</td>\n",
       "      <td>0.440</td>\n",
       "      <td>0.365</td>\n",
       "      <td>0.125</td>\n",
       "      <td>0.5160</td>\n",
       "      <td>0.2155</td>\n",
       "      <td>0.1140</td>\n",
       "      <td>0.1550</td>\n",
       "      <td>10</td>\n",
       "    </tr>\n",
       "    <tr>\n",
       "      <th>4</th>\n",
       "      <td>I</td>\n",
       "      <td>0.330</td>\n",
       "      <td>0.255</td>\n",
       "      <td>0.080</td>\n",
       "      <td>0.2050</td>\n",
       "      <td>0.0895</td>\n",
       "      <td>0.0395</td>\n",
       "      <td>0.0550</td>\n",
       "      <td>7</td>\n",
       "    </tr>\n",
       "    <tr>\n",
       "      <th>...</th>\n",
       "      <td>...</td>\n",
       "      <td>...</td>\n",
       "      <td>...</td>\n",
       "      <td>...</td>\n",
       "      <td>...</td>\n",
       "      <td>...</td>\n",
       "      <td>...</td>\n",
       "      <td>...</td>\n",
       "      <td>...</td>\n",
       "    </tr>\n",
       "    <tr>\n",
       "      <th>4172</th>\n",
       "      <td>F</td>\n",
       "      <td>0.565</td>\n",
       "      <td>0.450</td>\n",
       "      <td>0.165</td>\n",
       "      <td>0.8870</td>\n",
       "      <td>0.3700</td>\n",
       "      <td>0.2390</td>\n",
       "      <td>0.2490</td>\n",
       "      <td>11</td>\n",
       "    </tr>\n",
       "    <tr>\n",
       "      <th>4173</th>\n",
       "      <td>M</td>\n",
       "      <td>0.590</td>\n",
       "      <td>0.440</td>\n",
       "      <td>0.135</td>\n",
       "      <td>0.9660</td>\n",
       "      <td>0.4390</td>\n",
       "      <td>0.2145</td>\n",
       "      <td>0.2605</td>\n",
       "      <td>10</td>\n",
       "    </tr>\n",
       "    <tr>\n",
       "      <th>4174</th>\n",
       "      <td>M</td>\n",
       "      <td>0.600</td>\n",
       "      <td>0.475</td>\n",
       "      <td>0.205</td>\n",
       "      <td>1.1760</td>\n",
       "      <td>0.5255</td>\n",
       "      <td>0.2875</td>\n",
       "      <td>0.3080</td>\n",
       "      <td>9</td>\n",
       "    </tr>\n",
       "    <tr>\n",
       "      <th>4175</th>\n",
       "      <td>F</td>\n",
       "      <td>0.625</td>\n",
       "      <td>0.485</td>\n",
       "      <td>0.150</td>\n",
       "      <td>1.0945</td>\n",
       "      <td>0.5310</td>\n",
       "      <td>0.2610</td>\n",
       "      <td>0.2960</td>\n",
       "      <td>10</td>\n",
       "    </tr>\n",
       "    <tr>\n",
       "      <th>4176</th>\n",
       "      <td>M</td>\n",
       "      <td>0.710</td>\n",
       "      <td>0.555</td>\n",
       "      <td>0.195</td>\n",
       "      <td>1.9485</td>\n",
       "      <td>0.9455</td>\n",
       "      <td>0.3765</td>\n",
       "      <td>0.4950</td>\n",
       "      <td>12</td>\n",
       "    </tr>\n",
       "  </tbody>\n",
       "</table>\n",
       "<p>4177 rows × 9 columns</p>\n",
       "</div>"
      ],
      "text/plain": [
       "     Sex  Length  Diameter  Height  Whole weight  Shucked weight  \\\n",
       "0      M   0.455     0.365   0.095        0.5140          0.2245   \n",
       "1      M   0.350     0.265   0.090        0.2255          0.0995   \n",
       "2      F   0.530     0.420   0.135        0.6770          0.2565   \n",
       "3      M   0.440     0.365   0.125        0.5160          0.2155   \n",
       "4      I   0.330     0.255   0.080        0.2050          0.0895   \n",
       "...   ..     ...       ...     ...           ...             ...   \n",
       "4172   F   0.565     0.450   0.165        0.8870          0.3700   \n",
       "4173   M   0.590     0.440   0.135        0.9660          0.4390   \n",
       "4174   M   0.600     0.475   0.205        1.1760          0.5255   \n",
       "4175   F   0.625     0.485   0.150        1.0945          0.5310   \n",
       "4176   M   0.710     0.555   0.195        1.9485          0.9455   \n",
       "\n",
       "      Viscera weight  Shell weight  Rings  \n",
       "0             0.1010        0.1500     15  \n",
       "1             0.0485        0.0700      7  \n",
       "2             0.1415        0.2100      9  \n",
       "3             0.1140        0.1550     10  \n",
       "4             0.0395        0.0550      7  \n",
       "...              ...           ...    ...  \n",
       "4172          0.2390        0.2490     11  \n",
       "4173          0.2145        0.2605     10  \n",
       "4174          0.2875        0.3080      9  \n",
       "4175          0.2610        0.2960     10  \n",
       "4176          0.3765        0.4950     12  \n",
       "\n",
       "[4177 rows x 9 columns]"
      ]
     },
     "execution_count": 27,
     "metadata": {},
     "output_type": "execute_result"
    }
   ],
   "source": [
    "data"
   ]
  },
  {
   "cell_type": "code",
   "execution_count": 29,
   "id": "363b209a",
   "metadata": {},
   "outputs": [],
   "source": [
    "# it is multinomial since more than 2 type of classification"
   ]
  },
  {
   "cell_type": "code",
   "execution_count": 30,
   "id": "4c74df4f",
   "metadata": {},
   "outputs": [
    {
     "data": {
      "text/plain": [
       "M    1528\n",
       "I    1342\n",
       "F    1307\n",
       "Name: Sex, dtype: int64"
      ]
     },
     "execution_count": 30,
     "metadata": {},
     "output_type": "execute_result"
    }
   ],
   "source": [
    "data[\"Sex\"].value_counts()"
   ]
  },
  {
   "cell_type": "code",
   "execution_count": 31,
   "id": "b57b1919",
   "metadata": {},
   "outputs": [],
   "source": [
    "X=data.drop([\"Sex\"],axis=1)"
   ]
  },
  {
   "cell_type": "code",
   "execution_count": 32,
   "id": "9cd532cf",
   "metadata": {},
   "outputs": [],
   "source": [
    "y=data[\"Sex\"]"
   ]
  },
  {
   "cell_type": "code",
   "execution_count": 33,
   "id": "c8c61384",
   "metadata": {},
   "outputs": [
    {
     "data": {
      "text/html": [
       "<div>\n",
       "<style scoped>\n",
       "    .dataframe tbody tr th:only-of-type {\n",
       "        vertical-align: middle;\n",
       "    }\n",
       "\n",
       "    .dataframe tbody tr th {\n",
       "        vertical-align: top;\n",
       "    }\n",
       "\n",
       "    .dataframe thead th {\n",
       "        text-align: right;\n",
       "    }\n",
       "</style>\n",
       "<table border=\"1\" class=\"dataframe\">\n",
       "  <thead>\n",
       "    <tr style=\"text-align: right;\">\n",
       "      <th></th>\n",
       "      <th>Length</th>\n",
       "      <th>Diameter</th>\n",
       "      <th>Height</th>\n",
       "      <th>Whole weight</th>\n",
       "      <th>Shucked weight</th>\n",
       "      <th>Viscera weight</th>\n",
       "      <th>Shell weight</th>\n",
       "      <th>Rings</th>\n",
       "    </tr>\n",
       "  </thead>\n",
       "  <tbody>\n",
       "    <tr>\n",
       "      <th>0</th>\n",
       "      <td>0.455</td>\n",
       "      <td>0.365</td>\n",
       "      <td>0.095</td>\n",
       "      <td>0.5140</td>\n",
       "      <td>0.2245</td>\n",
       "      <td>0.1010</td>\n",
       "      <td>0.1500</td>\n",
       "      <td>15</td>\n",
       "    </tr>\n",
       "    <tr>\n",
       "      <th>1</th>\n",
       "      <td>0.350</td>\n",
       "      <td>0.265</td>\n",
       "      <td>0.090</td>\n",
       "      <td>0.2255</td>\n",
       "      <td>0.0995</td>\n",
       "      <td>0.0485</td>\n",
       "      <td>0.0700</td>\n",
       "      <td>7</td>\n",
       "    </tr>\n",
       "    <tr>\n",
       "      <th>2</th>\n",
       "      <td>0.530</td>\n",
       "      <td>0.420</td>\n",
       "      <td>0.135</td>\n",
       "      <td>0.6770</td>\n",
       "      <td>0.2565</td>\n",
       "      <td>0.1415</td>\n",
       "      <td>0.2100</td>\n",
       "      <td>9</td>\n",
       "    </tr>\n",
       "    <tr>\n",
       "      <th>3</th>\n",
       "      <td>0.440</td>\n",
       "      <td>0.365</td>\n",
       "      <td>0.125</td>\n",
       "      <td>0.5160</td>\n",
       "      <td>0.2155</td>\n",
       "      <td>0.1140</td>\n",
       "      <td>0.1550</td>\n",
       "      <td>10</td>\n",
       "    </tr>\n",
       "    <tr>\n",
       "      <th>4</th>\n",
       "      <td>0.330</td>\n",
       "      <td>0.255</td>\n",
       "      <td>0.080</td>\n",
       "      <td>0.2050</td>\n",
       "      <td>0.0895</td>\n",
       "      <td>0.0395</td>\n",
       "      <td>0.0550</td>\n",
       "      <td>7</td>\n",
       "    </tr>\n",
       "    <tr>\n",
       "      <th>...</th>\n",
       "      <td>...</td>\n",
       "      <td>...</td>\n",
       "      <td>...</td>\n",
       "      <td>...</td>\n",
       "      <td>...</td>\n",
       "      <td>...</td>\n",
       "      <td>...</td>\n",
       "      <td>...</td>\n",
       "    </tr>\n",
       "    <tr>\n",
       "      <th>4172</th>\n",
       "      <td>0.565</td>\n",
       "      <td>0.450</td>\n",
       "      <td>0.165</td>\n",
       "      <td>0.8870</td>\n",
       "      <td>0.3700</td>\n",
       "      <td>0.2390</td>\n",
       "      <td>0.2490</td>\n",
       "      <td>11</td>\n",
       "    </tr>\n",
       "    <tr>\n",
       "      <th>4173</th>\n",
       "      <td>0.590</td>\n",
       "      <td>0.440</td>\n",
       "      <td>0.135</td>\n",
       "      <td>0.9660</td>\n",
       "      <td>0.4390</td>\n",
       "      <td>0.2145</td>\n",
       "      <td>0.2605</td>\n",
       "      <td>10</td>\n",
       "    </tr>\n",
       "    <tr>\n",
       "      <th>4174</th>\n",
       "      <td>0.600</td>\n",
       "      <td>0.475</td>\n",
       "      <td>0.205</td>\n",
       "      <td>1.1760</td>\n",
       "      <td>0.5255</td>\n",
       "      <td>0.2875</td>\n",
       "      <td>0.3080</td>\n",
       "      <td>9</td>\n",
       "    </tr>\n",
       "    <tr>\n",
       "      <th>4175</th>\n",
       "      <td>0.625</td>\n",
       "      <td>0.485</td>\n",
       "      <td>0.150</td>\n",
       "      <td>1.0945</td>\n",
       "      <td>0.5310</td>\n",
       "      <td>0.2610</td>\n",
       "      <td>0.2960</td>\n",
       "      <td>10</td>\n",
       "    </tr>\n",
       "    <tr>\n",
       "      <th>4176</th>\n",
       "      <td>0.710</td>\n",
       "      <td>0.555</td>\n",
       "      <td>0.195</td>\n",
       "      <td>1.9485</td>\n",
       "      <td>0.9455</td>\n",
       "      <td>0.3765</td>\n",
       "      <td>0.4950</td>\n",
       "      <td>12</td>\n",
       "    </tr>\n",
       "  </tbody>\n",
       "</table>\n",
       "<p>4177 rows × 8 columns</p>\n",
       "</div>"
      ],
      "text/plain": [
       "      Length  Diameter  Height  Whole weight  Shucked weight  Viscera weight  \\\n",
       "0      0.455     0.365   0.095        0.5140          0.2245          0.1010   \n",
       "1      0.350     0.265   0.090        0.2255          0.0995          0.0485   \n",
       "2      0.530     0.420   0.135        0.6770          0.2565          0.1415   \n",
       "3      0.440     0.365   0.125        0.5160          0.2155          0.1140   \n",
       "4      0.330     0.255   0.080        0.2050          0.0895          0.0395   \n",
       "...      ...       ...     ...           ...             ...             ...   \n",
       "4172   0.565     0.450   0.165        0.8870          0.3700          0.2390   \n",
       "4173   0.590     0.440   0.135        0.9660          0.4390          0.2145   \n",
       "4174   0.600     0.475   0.205        1.1760          0.5255          0.2875   \n",
       "4175   0.625     0.485   0.150        1.0945          0.5310          0.2610   \n",
       "4176   0.710     0.555   0.195        1.9485          0.9455          0.3765   \n",
       "\n",
       "      Shell weight  Rings  \n",
       "0           0.1500     15  \n",
       "1           0.0700      7  \n",
       "2           0.2100      9  \n",
       "3           0.1550     10  \n",
       "4           0.0550      7  \n",
       "...            ...    ...  \n",
       "4172        0.2490     11  \n",
       "4173        0.2605     10  \n",
       "4174        0.3080      9  \n",
       "4175        0.2960     10  \n",
       "4176        0.4950     12  \n",
       "\n",
       "[4177 rows x 8 columns]"
      ]
     },
     "execution_count": 33,
     "metadata": {},
     "output_type": "execute_result"
    }
   ],
   "source": [
    "X"
   ]
  },
  {
   "cell_type": "code",
   "execution_count": 34,
   "id": "8159f935",
   "metadata": {},
   "outputs": [
    {
     "data": {
      "text/plain": [
       "0       M\n",
       "1       M\n",
       "2       F\n",
       "3       M\n",
       "4       I\n",
       "       ..\n",
       "4172    F\n",
       "4173    M\n",
       "4174    M\n",
       "4175    F\n",
       "4176    M\n",
       "Name: Sex, Length: 4177, dtype: object"
      ]
     },
     "execution_count": 34,
     "metadata": {},
     "output_type": "execute_result"
    }
   ],
   "source": [
    "y"
   ]
  },
  {
   "cell_type": "code",
   "execution_count": 35,
   "id": "38c05de0",
   "metadata": {},
   "outputs": [],
   "source": [
    "from sklearn.model_selection import train_test_split"
   ]
  },
  {
   "cell_type": "code",
   "execution_count": 60,
   "id": "697288dd",
   "metadata": {},
   "outputs": [],
   "source": [
    "X_train,X_test,y_train,y_test=train_test_split(X,y,test_size=0.2)"
   ]
  },
  {
   "cell_type": "code",
   "execution_count": 41,
   "id": "35d00a22",
   "metadata": {},
   "outputs": [],
   "source": [
    "from sklearn.linear_model import LogisticRegression"
   ]
  },
  {
   "cell_type": "code",
   "execution_count": 47,
   "id": "27734047",
   "metadata": {},
   "outputs": [],
   "source": [
    "model=LogisticRegression(multi_class=\"multinomial\",max_iter=1000) #max_iter for how many times your data get trained,it will power with number of rows"
   ]
  },
  {
   "cell_type": "code",
   "execution_count": 48,
   "id": "33f9481a",
   "metadata": {},
   "outputs": [
    {
     "data": {
      "text/plain": [
       "LogisticRegression(max_iter=1000, multi_class='multinomial')"
      ]
     },
     "execution_count": 48,
     "metadata": {},
     "output_type": "execute_result"
    }
   ],
   "source": [
    "model.fit(X_train,y_train)"
   ]
  },
  {
   "cell_type": "code",
   "execution_count": 74,
   "id": "588c2a33",
   "metadata": {},
   "outputs": [
    {
     "data": {
      "text/plain": [
       "array(['I', 'F', 'F', 'M', 'I', 'M', 'I', 'F', 'I', 'M', 'I', 'M', 'I',\n",
       "       'M', 'M', 'I', 'I', 'M', 'M', 'I', 'F', 'F', 'F', 'I', 'M', 'M',\n",
       "       'M', 'I', 'I', 'M', 'M', 'F', 'M', 'F', 'M', 'M', 'M', 'M', 'I',\n",
       "       'I', 'M', 'F', 'M', 'M', 'I', 'M', 'F', 'M', 'M', 'F', 'I', 'I',\n",
       "       'F', 'I', 'F', 'M', 'M', 'I', 'I', 'M', 'F', 'M', 'I', 'M', 'M',\n",
       "       'F', 'F', 'I', 'I', 'F', 'F', 'I', 'M', 'M', 'F', 'I', 'M', 'M',\n",
       "       'F', 'F', 'I', 'M', 'M', 'I', 'F', 'I', 'F', 'M', 'M', 'M', 'F',\n",
       "       'M', 'F', 'M', 'I', 'M', 'I', 'M', 'F', 'I', 'M', 'M', 'I', 'M',\n",
       "       'F', 'I', 'M', 'I', 'M', 'I', 'I', 'F', 'I', 'M', 'I', 'I', 'M',\n",
       "       'F', 'M', 'I', 'M', 'M', 'F', 'I', 'M', 'F', 'I', 'M', 'M', 'I',\n",
       "       'F', 'F', 'M', 'I', 'F', 'M', 'M', 'I', 'F', 'M', 'I', 'M', 'I',\n",
       "       'F', 'M', 'I', 'M', 'M', 'F', 'I', 'M', 'I', 'M', 'I', 'I', 'F',\n",
       "       'M', 'M', 'M', 'I', 'M', 'F', 'I', 'F', 'F', 'M', 'I', 'F', 'I',\n",
       "       'I', 'M', 'M', 'M', 'I', 'M', 'M', 'I', 'M', 'I', 'F', 'F', 'I',\n",
       "       'M', 'I', 'I', 'I', 'F', 'I', 'I', 'I', 'I', 'I', 'M', 'F', 'I',\n",
       "       'F', 'M', 'M', 'M', 'M', 'F', 'M', 'F', 'F', 'F', 'M', 'I', 'I',\n",
       "       'I', 'F', 'F', 'M', 'F', 'I', 'F', 'I', 'M', 'M', 'M', 'F', 'M',\n",
       "       'I', 'I', 'M', 'I', 'F', 'M', 'M', 'M', 'I', 'I', 'M', 'I', 'I',\n",
       "       'I', 'M', 'I', 'F', 'M', 'M', 'I', 'F', 'I', 'M', 'M', 'F', 'M',\n",
       "       'F', 'I', 'I', 'I', 'I', 'F', 'M', 'I', 'F', 'M', 'I', 'F', 'I',\n",
       "       'F', 'M', 'M', 'F', 'F', 'F', 'M', 'F', 'I', 'F', 'I', 'M', 'M',\n",
       "       'F', 'F', 'M', 'M', 'I', 'I', 'M', 'F', 'M', 'I', 'I', 'I', 'I',\n",
       "       'M', 'M', 'I', 'M', 'I', 'I', 'F', 'I', 'I', 'I', 'I', 'M', 'I',\n",
       "       'M', 'F', 'M', 'I', 'I', 'F', 'M', 'M', 'M', 'M', 'M', 'M', 'M',\n",
       "       'M', 'I', 'F', 'M', 'I', 'M', 'M', 'M', 'I', 'M', 'M', 'I', 'M',\n",
       "       'M', 'I', 'I', 'F', 'M', 'F', 'I', 'M', 'I', 'M', 'I', 'F', 'M',\n",
       "       'M', 'M', 'F', 'M', 'M', 'M', 'F', 'M', 'M', 'F', 'M', 'I', 'I',\n",
       "       'M', 'F', 'M', 'I', 'I', 'F', 'I', 'I', 'I', 'I', 'M', 'I', 'I',\n",
       "       'M', 'I', 'F', 'I', 'F', 'M', 'F', 'F', 'M', 'M', 'I', 'M', 'I',\n",
       "       'I', 'M', 'M', 'I', 'I', 'I', 'M', 'I', 'I', 'M', 'I', 'I', 'M',\n",
       "       'M', 'I', 'I', 'I', 'F', 'I', 'M', 'M', 'M', 'I', 'I', 'I', 'M',\n",
       "       'I', 'M', 'M', 'I', 'F', 'I', 'F', 'M', 'F', 'M', 'I', 'I', 'I',\n",
       "       'M', 'I', 'F', 'M', 'F', 'I', 'I', 'M', 'I', 'F', 'I', 'I', 'F',\n",
       "       'M', 'M', 'M', 'M', 'M', 'F', 'M', 'M', 'I', 'I', 'I', 'F', 'F',\n",
       "       'M', 'M', 'F', 'I', 'F', 'I', 'M', 'I', 'I', 'M', 'F', 'F', 'M',\n",
       "       'I', 'M', 'M', 'F', 'I', 'F', 'M', 'M', 'I', 'M', 'F', 'I', 'F',\n",
       "       'M', 'I', 'F', 'M', 'I', 'I', 'M', 'I', 'I', 'I', 'F', 'I', 'M',\n",
       "       'M', 'M', 'M', 'I', 'M', 'F', 'I', 'F', 'M', 'I', 'M', 'F', 'M',\n",
       "       'I', 'M', 'F', 'M', 'F', 'I', 'M', 'M', 'I', 'M', 'F', 'M', 'I',\n",
       "       'I', 'I', 'I', 'F', 'M', 'I', 'M', 'I', 'M', 'M', 'F', 'M', 'M',\n",
       "       'M', 'M', 'M', 'F', 'I', 'I', 'I', 'F', 'I', 'M', 'I', 'I', 'M',\n",
       "       'I', 'I', 'M', 'I', 'M', 'F', 'I', 'M', 'M', 'I', 'I', 'I', 'M',\n",
       "       'F', 'I', 'I', 'I', 'I', 'F', 'I', 'I', 'I', 'I', 'I', 'M', 'F',\n",
       "       'I', 'I', 'M', 'M', 'M', 'F', 'M', 'M', 'I', 'M', 'F', 'F', 'I',\n",
       "       'I', 'F', 'M', 'I', 'I', 'M', 'I', 'M', 'F', 'M', 'M', 'M', 'I',\n",
       "       'F', 'F', 'F', 'I', 'M', 'M', 'I', 'F', 'I', 'M', 'I', 'M', 'M',\n",
       "       'M', 'I', 'M', 'I', 'F', 'M', 'I', 'I', 'M', 'I', 'M', 'F', 'I',\n",
       "       'M', 'M', 'M', 'M', 'I', 'I', 'F', 'M', 'M', 'I', 'F', 'I', 'I',\n",
       "       'I', 'M', 'M', 'I', 'I', 'I', 'I', 'M', 'I', 'F', 'M', 'F', 'M',\n",
       "       'I', 'M', 'F', 'F', 'F', 'I', 'M', 'M', 'M', 'I', 'M', 'F', 'I',\n",
       "       'M', 'F', 'M', 'M', 'F', 'M', 'M', 'M', 'I', 'F', 'I', 'F', 'M',\n",
       "       'M', 'I', 'I', 'I', 'I', 'I', 'M', 'F', 'I', 'M', 'M', 'I', 'M',\n",
       "       'I', 'M', 'I', 'M', 'I', 'I', 'M', 'I', 'I', 'I', 'I', 'M', 'I',\n",
       "       'I', 'I', 'I', 'F', 'I', 'I', 'I', 'I', 'M', 'I', 'F', 'M', 'I',\n",
       "       'M', 'F', 'M', 'I', 'I', 'M', 'I', 'I', 'M', 'F', 'F', 'M', 'I',\n",
       "       'I', 'F', 'M', 'M', 'I', 'I', 'I', 'I', 'F', 'I', 'F', 'I', 'I',\n",
       "       'I', 'M', 'M', 'M', 'F', 'M', 'I', 'F', 'M', 'I', 'M', 'M', 'M',\n",
       "       'I', 'M', 'I', 'M', 'I', 'M', 'M', 'M', 'M', 'M', 'F', 'I', 'M',\n",
       "       'I', 'F', 'F', 'F', 'M', 'I', 'F', 'M', 'F', 'M', 'F', 'I', 'M',\n",
       "       'M', 'M', 'I', 'M', 'M', 'I', 'I', 'M', 'F', 'F', 'I', 'I', 'I',\n",
       "       'M', 'I', 'I', 'F', 'I', 'M', 'I', 'M', 'M', 'I', 'I', 'M', 'M',\n",
       "       'M', 'I', 'I', 'F', 'I', 'I', 'I', 'I', 'M', 'F', 'F', 'M', 'I',\n",
       "       'M', 'F', 'F', 'M', 'M', 'M', 'M', 'M', 'F', 'F', 'F', 'I', 'I',\n",
       "       'F', 'I', 'M', 'F', 'M', 'F', 'F', 'M', 'M', 'M', 'I', 'F', 'I',\n",
       "       'F', 'I', 'M', 'I'], dtype=object)"
      ]
     },
     "execution_count": 74,
     "metadata": {},
     "output_type": "execute_result"
    }
   ],
   "source": [
    "pred=model.predict(X_test)\n",
    "pred"
   ]
  },
  {
   "cell_type": "code",
   "execution_count": 77,
   "id": "c97b85f0",
   "metadata": {},
   "outputs": [
    {
     "data": {
      "text/plain": [
       "1102    M\n",
       "3566    M\n",
       "3598    M\n",
       "3942    F\n",
       "3092    M\n",
       "       ..\n",
       "2555    I\n",
       "3788    F\n",
       "772     M\n",
       "2060    M\n",
       "1135    I\n",
       "Name: Sex, Length: 836, dtype: object"
      ]
     },
     "execution_count": 77,
     "metadata": {},
     "output_type": "execute_result"
    }
   ],
   "source": [
    "y_test"
   ]
  },
  {
   "cell_type": "code",
   "execution_count": 78,
   "id": "cf19f7d0",
   "metadata": {},
   "outputs": [],
   "source": [
    "from sklearn.metrics import confusion_matrix"
   ]
  },
  {
   "cell_type": "code",
   "execution_count": 79,
   "id": "dc079fc6",
   "metadata": {},
   "outputs": [],
   "source": [
    "cm=confusion_matrix(y_test,pred)"
   ]
  },
  {
   "cell_type": "code",
   "execution_count": 80,
   "id": "88940a6e",
   "metadata": {},
   "outputs": [
    {
     "data": {
      "text/plain": [
       "array([[ 95,  41, 133],\n",
       "       [ 16, 209,  34],\n",
       "       [ 71,  73, 164]], dtype=int64)"
      ]
     },
     "execution_count": 80,
     "metadata": {},
     "output_type": "execute_result"
    }
   ],
   "source": [
    "cm"
   ]
  },
  {
   "cell_type": "code",
   "execution_count": 81,
   "id": "9cd969e3",
   "metadata": {},
   "outputs": [
    {
     "data": {
      "text/html": [
       "<div>\n",
       "<style scoped>\n",
       "    .dataframe tbody tr th:only-of-type {\n",
       "        vertical-align: middle;\n",
       "    }\n",
       "\n",
       "    .dataframe tbody tr th {\n",
       "        vertical-align: top;\n",
       "    }\n",
       "\n",
       "    .dataframe thead th {\n",
       "        text-align: right;\n",
       "    }\n",
       "</style>\n",
       "<table border=\"1\" class=\"dataframe\">\n",
       "  <thead>\n",
       "    <tr style=\"text-align: right;\">\n",
       "      <th></th>\n",
       "      <th>predicted_female</th>\n",
       "      <th>predicted_infant</th>\n",
       "      <th>predicted_male</th>\n",
       "    </tr>\n",
       "  </thead>\n",
       "  <tbody>\n",
       "    <tr>\n",
       "      <th>Female</th>\n",
       "      <td>95</td>\n",
       "      <td>41</td>\n",
       "      <td>133</td>\n",
       "    </tr>\n",
       "    <tr>\n",
       "      <th>Infant</th>\n",
       "      <td>16</td>\n",
       "      <td>209</td>\n",
       "      <td>34</td>\n",
       "    </tr>\n",
       "    <tr>\n",
       "      <th>Male</th>\n",
       "      <td>71</td>\n",
       "      <td>73</td>\n",
       "      <td>164</td>\n",
       "    </tr>\n",
       "  </tbody>\n",
       "</table>\n",
       "</div>"
      ],
      "text/plain": [
       "        predicted_female  predicted_infant  predicted_male\n",
       "Female                95                41             133\n",
       "Infant                16               209              34\n",
       "Male                  71                73             164"
      ]
     },
     "execution_count": 81,
     "metadata": {},
     "output_type": "execute_result"
    }
   ],
   "source": [
    "pd.DataFrame(cm,index=[\"Female\",\"Infant\",\"Male\"],columns=[\"predicted_female\",\"predicted_infant\",\"predicted_male\"])"
   ]
  },
  {
   "cell_type": "code",
   "execution_count": 82,
   "id": "f066a5c0",
   "metadata": {},
   "outputs": [],
   "source": [
    "from sklearn import metrics"
   ]
  },
  {
   "cell_type": "code",
   "execution_count": 83,
   "id": "3f5b43f1",
   "metadata": {},
   "outputs": [
    {
     "data": {
      "text/plain": [
       "0.5598086124401914"
      ]
     },
     "execution_count": 83,
     "metadata": {},
     "output_type": "execute_result"
    }
   ],
   "source": [
    "metrics.accuracy_score(y_test,pred)"
   ]
  },
  {
   "cell_type": "code",
   "execution_count": null,
   "id": "774d138a",
   "metadata": {},
   "outputs": [],
   "source": [
    "       \n",
    "   #    Classify the type of species using multinomial logistic regression\n",
    "\n"
   ]
  },
  {
   "cell_type": "code",
   "execution_count": null,
   "id": "b45aed94",
   "metadata": {},
   "outputs": [],
   "source": [
    "\n"
   ]
  },
  {
   "cell_type": "code",
   "execution_count": null,
   "id": "e538d537",
   "metadata": {},
   "outputs": [],
   "source": []
  }
 ],
 "metadata": {
  "kernelspec": {
   "display_name": "Python 3",
   "language": "python",
   "name": "python3"
  },
  "language_info": {
   "codemirror_mode": {
    "name": "ipython",
    "version": 3
   },
   "file_extension": ".py",
   "mimetype": "text/x-python",
   "name": "python",
   "nbconvert_exporter": "python",
   "pygments_lexer": "ipython3",
   "version": "3.6.13"
  }
 },
 "nbformat": 4,
 "nbformat_minor": 5
}
