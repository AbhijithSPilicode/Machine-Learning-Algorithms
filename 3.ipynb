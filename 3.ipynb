{
 "cells": [
  {
   "cell_type": "code",
   "execution_count": 1,
   "id": "bf53ea62",
   "metadata": {},
   "outputs": [],
   "source": [
    "#day 25\n",
    "#Merging Dataframes\n"
   ]
  },
  {
   "cell_type": "code",
   "execution_count": 2,
   "id": "d8902859",
   "metadata": {},
   "outputs": [],
   "source": [
    "#join\n",
    "#it is used for joining two dataframes using a common column\n",
    "#keys used to join two or more dataframes which is used to avoid duplication of row values"
   ]
  },
  {
   "cell_type": "code",
   "execution_count": null,
   "id": "9975f73c",
   "metadata": {},
   "outputs": [],
   "source": [
    "#join are of 4 types:\n",
    "#inner join,left join,\n"
   ]
  }
 ],
 "metadata": {
  "kernelspec": {
   "display_name": "Python 3 (ipykernel)",
   "language": "python",
   "name": "python3"
  },
  "language_info": {
   "codemirror_mode": {
    "name": "ipython",
    "version": 3
   },
   "file_extension": ".py",
   "mimetype": "text/x-python",
   "name": "python",
   "nbconvert_exporter": "python",
   "pygments_lexer": "ipython3",
   "version": "3.9.7"
  }
 },
 "nbformat": 4,
 "nbformat_minor": 5
}
