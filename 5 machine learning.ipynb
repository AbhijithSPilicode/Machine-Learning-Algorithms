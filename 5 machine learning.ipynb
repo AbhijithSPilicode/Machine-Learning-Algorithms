{
 "cells": [
  {
   "cell_type": "code",
   "execution_count": 25,
   "id": "ad68f04a",
   "metadata": {},
   "outputs": [],
   "source": [
    "import matplotlib.pyplot as plt\n",
    "import pandas as pd\n",
    "import numpy as np"
   ]
  },
  {
   "cell_type": "code",
   "execution_count": 3,
   "id": "6c59697f",
   "metadata": {},
   "outputs": [],
   "source": [
    "math_marks=[88,92,80,89,100,80,60,100,80,34]\n",
    "science_marks=[35,79,79,48,100,88,32,45,20,30]\n",
    "marks_range=[10,20,30,40,50,60,70,80,90,100]"
   ]
  },
  {
   "cell_type": "code",
   "execution_count": 4,
   "id": "f0db7079",
   "metadata": {},
   "outputs": [
    {
     "data": {
      "text/plain": [
       "<matplotlib.collections.PathCollection at 0x2afbd205eb0>"
      ]
     },
     "execution_count": 4,
     "metadata": {},
     "output_type": "execute_result"
    },
    {
     "data": {
      "image/png": "[encoded data removed]",
      "text/plain": [
       "<Figure size 432x288 with 1 Axes>"
      ]
     },
     "metadata": {
      "needs_background": "light"
     },
     "output_type": "display_data"
    }
   ],
   "source": [
    "plt.scatter(marks_range,math_marks,color=\"r\")\n",
    "plt.scatter(marks_range,science_marks,color=\"g\")"
   ]
  },
  {
   "cell_type": "code",
   "execution_count": 6,
   "id": "8063bb1e",
   "metadata": {},
   "outputs": [],
   "source": [
    "                   #   MACHINE LEARNING"
   ]
  },
  {
   "cell_type": "code",
   "execution_count": null,
   "id": "dce152d9",
   "metadata": {},
   "outputs": [],
   "source": [
    "            #1 CONVERTING THE CSV FILE VALUES INTO ARRAY"
   ]
  },
  {
   "cell_type": "code",
   "execution_count": 9,
   "id": "ce4e8e8c",
   "metadata": {},
   "outputs": [],
   "source": [
    "data=pd.read_csv(\"C:\\\\Users\\\\user\\\\Downloads\\\\Social_Network_Ads.csv\")"
   ]
  },
  {
   "cell_type": "code",
   "execution_count": 10,
   "id": "a98427c8",
   "metadata": {},
   "outputs": [
    {
     "data": {
      "text/html": [
       "<div>\n",
       "<style scoped>\n",
       "    .dataframe tbody tr th:only-of-type {\n",
       "        vertical-align: middle;\n",
       "    }\n",
       "\n",
       "    .dataframe tbody tr th {\n",
       "        vertical-align: top;\n",
       "    }\n",
       "\n",
       "    .dataframe thead th {\n",
       "        text-align: right;\n",
       "    }\n",
       "</style>\n",
       "<table border=\"1\" class=\"dataframe\">\n",
       "  <thead>\n",
       "    <tr style=\"text-align: right;\">\n",
       "      <th></th>\n",
       "      <th>User ID</th>\n",
       "      <th>Gender</th>\n",
       "      <th>Age</th>\n",
       "      <th>EstimatedSalary</th>\n",
       "      <th>Purchased</th>\n",
       "    </tr>\n",
       "  </thead>\n",
       "  <tbody>\n",
       "    <tr>\n",
       "      <th>0</th>\n",
       "      <td>15624510</td>\n",
       "      <td>Male</td>\n",
       "      <td>19</td>\n",
       "      <td>19000</td>\n",
       "      <td>0</td>\n",
       "    </tr>\n",
       "    <tr>\n",
       "      <th>1</th>\n",
       "      <td>15810944</td>\n",
       "      <td>Male</td>\n",
       "      <td>35</td>\n",
       "      <td>20000</td>\n",
       "      <td>0</td>\n",
       "    </tr>\n",
       "    <tr>\n",
       "      <th>2</th>\n",
       "      <td>15668575</td>\n",
       "      <td>Female</td>\n",
       "      <td>26</td>\n",
       "      <td>43000</td>\n",
       "      <td>0</td>\n",
       "    </tr>\n",
       "    <tr>\n",
       "      <th>3</th>\n",
       "      <td>15603246</td>\n",
       "      <td>Female</td>\n",
       "      <td>27</td>\n",
       "      <td>57000</td>\n",
       "      <td>0</td>\n",
       "    </tr>\n",
       "    <tr>\n",
       "      <th>4</th>\n",
       "      <td>15804002</td>\n",
       "      <td>Male</td>\n",
       "      <td>19</td>\n",
       "      <td>76000</td>\n",
       "      <td>0</td>\n",
       "    </tr>\n",
       "    <tr>\n",
       "      <th>...</th>\n",
       "      <td>...</td>\n",
       "      <td>...</td>\n",
       "      <td>...</td>\n",
       "      <td>...</td>\n",
       "      <td>...</td>\n",
       "    </tr>\n",
       "    <tr>\n",
       "      <th>395</th>\n",
       "      <td>15691863</td>\n",
       "      <td>Female</td>\n",
       "      <td>46</td>\n",
       "      <td>41000</td>\n",
       "      <td>1</td>\n",
       "    </tr>\n",
       "    <tr>\n",
       "      <th>396</th>\n",
       "      <td>15706071</td>\n",
       "      <td>Male</td>\n",
       "      <td>51</td>\n",
       "      <td>23000</td>\n",
       "      <td>1</td>\n",
       "    </tr>\n",
       "    <tr>\n",
       "      <th>397</th>\n",
       "      <td>15654296</td>\n",
       "      <td>Female</td>\n",
       "      <td>50</td>\n",
       "      <td>20000</td>\n",
       "      <td>1</td>\n",
       "    </tr>\n",
       "    <tr>\n",
       "      <th>398</th>\n",
       "      <td>15755018</td>\n",
       "      <td>Male</td>\n",
       "      <td>36</td>\n",
       "      <td>33000</td>\n",
       "      <td>0</td>\n",
       "    </tr>\n",
       "    <tr>\n",
       "      <th>399</th>\n",
       "      <td>15594041</td>\n",
       "      <td>Female</td>\n",
       "      <td>49</td>\n",
       "      <td>36000</td>\n",
       "      <td>1</td>\n",
       "    </tr>\n",
       "  </tbody>\n",
       "</table>\n",
       "<p>400 rows × 5 columns</p>\n",
       "</div>"
      ],
      "text/plain": [
       "      User ID  Gender  Age  EstimatedSalary  Purchased\n",
       "0    15624510    Male   19            19000          0\n",
       "1    15810944    Male   35            20000          0\n",
       "2    15668575  Female   26            43000          0\n",
       "3    15603246  Female   27            57000          0\n",
       "4    15804002    Male   19            76000          0\n",
       "..        ...     ...  ...              ...        ...\n",
       "395  15691863  Female   46            41000          1\n",
       "396  15706071    Male   51            23000          1\n",
       "397  15654296  Female   50            20000          1\n",
       "398  15755018    Male   36            33000          0\n",
       "399  15594041  Female   49            36000          1\n",
       "\n",
       "[400 rows x 5 columns]"
      ]
     },
     "execution_count": 10,
     "metadata": {},
     "output_type": "execute_result"
    }
   ],
   "source": [
    "data"
   ]
  },
  {
   "cell_type": "code",
   "execution_count": 18,
   "id": "b634c0d8",
   "metadata": {},
   "outputs": [],
   "source": [
    "a=data.iloc[:,1:4]"
   ]
  },
  {
   "cell_type": "code",
   "execution_count": 11,
   "id": "e12a43cb",
   "metadata": {},
   "outputs": [],
   "source": [
    "x=data.iloc[:,1:4].values #index 1 to 3"
   ]
  },
  {
   "cell_type": "code",
   "execution_count": 12,
   "id": "e9fdbcf3",
   "metadata": {},
   "outputs": [
    {
     "data": {
      "text/plain": [
       "array([['Male', 19, 19000],\n",
       "       ['Male', 35, 20000],\n",
       "       ['Female', 26, 43000],\n",
       "       ...,\n",
       "       ['Female', 50, 20000],\n",
       "       ['Male', 36, 33000],\n",
       "       ['Female', 49, 36000]], dtype=object)"
      ]
     },
     "execution_count": 12,
     "metadata": {},
     "output_type": "execute_result"
    }
   ],
   "source": [
    "x      #which is dependent ,here index 1,2,3"
   ]
  },
  {
   "cell_type": "code",
   "execution_count": 13,
   "id": "b88b1d3d",
   "metadata": {},
   "outputs": [],
   "source": [
    "y=data.iloc[:,4].values #.value will convert it into a array #index4"
   ]
  },
  {
   "cell_type": "code",
   "execution_count": 14,
   "id": "f598213c",
   "metadata": {},
   "outputs": [
    {
     "data": {
      "text/plain": [
       "array([0, 0, 0, 0, 0, 0, 0, 1, 0, 0, 0, 0, 0, 0, 0, 0, 1, 1, 1, 1, 1, 1,\n",
       "       1, 1, 1, 1, 1, 1, 0, 0, 0, 1, 0, 0, 0, 0, 0, 0, 0, 0, 0, 0, 0, 0,\n",
       "       0, 0, 0, 0, 1, 0, 0, 0, 0, 0, 0, 0, 0, 0, 0, 0, 0, 0, 0, 1, 0, 0,\n",
       "       0, 0, 0, 0, 0, 0, 0, 0, 0, 1, 0, 0, 0, 0, 0, 0, 0, 0, 0, 1, 0, 0,\n",
       "       0, 0, 0, 0, 0, 0, 0, 0, 0, 1, 0, 0, 0, 0, 0, 1, 0, 0, 0, 0, 0, 0,\n",
       "       0, 0, 0, 0, 0, 0, 0, 0, 0, 0, 0, 0, 0, 0, 0, 0, 0, 0, 0, 0, 0, 0,\n",
       "       0, 0, 0, 0, 0, 1, 0, 0, 0, 0, 0, 0, 0, 0, 1, 0, 0, 0, 0, 0, 0, 0,\n",
       "       0, 0, 0, 0, 0, 1, 1, 0, 0, 0, 0, 0, 0, 0, 1, 0, 0, 0, 0, 0, 0, 0,\n",
       "       0, 0, 0, 0, 0, 0, 1, 0, 0, 0, 0, 0, 0, 0, 0, 0, 0, 0, 0, 0, 0, 0,\n",
       "       0, 0, 0, 0, 1, 0, 1, 0, 1, 0, 1, 0, 1, 1, 0, 0, 0, 1, 0, 0, 0, 1,\n",
       "       0, 1, 1, 1, 0, 0, 1, 1, 0, 1, 1, 0, 1, 1, 0, 1, 0, 0, 0, 1, 1, 0,\n",
       "       1, 1, 0, 1, 0, 1, 0, 1, 0, 0, 1, 1, 0, 1, 0, 0, 1, 1, 0, 1, 1, 0,\n",
       "       1, 1, 0, 0, 1, 0, 0, 1, 1, 1, 1, 1, 0, 1, 1, 1, 1, 0, 1, 1, 0, 1,\n",
       "       0, 1, 0, 1, 1, 1, 1, 0, 0, 0, 1, 1, 0, 1, 1, 1, 1, 1, 0, 0, 0, 1,\n",
       "       1, 0, 0, 1, 0, 1, 0, 1, 1, 0, 1, 0, 1, 1, 0, 1, 1, 0, 0, 0, 1, 1,\n",
       "       0, 1, 0, 0, 1, 0, 1, 0, 0, 1, 1, 0, 0, 1, 1, 0, 1, 1, 0, 0, 1, 0,\n",
       "       1, 0, 1, 1, 1, 0, 1, 0, 1, 1, 1, 0, 1, 1, 1, 1, 0, 1, 1, 1, 0, 1,\n",
       "       0, 1, 0, 0, 1, 1, 0, 1, 1, 1, 1, 1, 1, 0, 1, 1, 1, 1, 1, 1, 0, 1,\n",
       "       1, 1, 0, 1], dtype=int64)"
      ]
     },
     "execution_count": 14,
     "metadata": {},
     "output_type": "execute_result"
    }
   ],
   "source": [
    "y  #this will give independent values here index 4 only"
   ]
  },
  {
   "cell_type": "code",
   "execution_count": 38,
   "id": "5bf0efbe",
   "metadata": {},
   "outputs": [],
   "source": [
    "                #2  FIND THE MISSING VALUES(NULL VALUES)  "
   ]
  },
  {
   "cell_type": "code",
   "execution_count": 26,
   "id": "d0d4e1d0",
   "metadata": {},
   "outputs": [
    {
     "data": {
      "text/plain": [
       "array([['Male', SimpleImputer(fill_value=nan),\n",
       "        SimpleImputer(fill_value=nan)],\n",
       "       ['Male', SimpleImputer(fill_value=nan),\n",
       "        SimpleImputer(fill_value=nan)],\n",
       "       ['Female', SimpleImputer(fill_value=nan),\n",
       "        SimpleImputer(fill_value=nan)],\n",
       "       ...,\n",
       "       ['Female', SimpleImputer(fill_value=nan),\n",
       "        SimpleImputer(fill_value=nan)],\n",
       "       ['Male', SimpleImputer(fill_value=nan),\n",
       "        SimpleImputer(fill_value=nan)],\n",
       "       ['Female', SimpleImputer(fill_value=nan),\n",
       "        SimpleImputer(fill_value=nan)]], dtype=object)"
      ]
     },
     "execution_count": 26,
     "metadata": {},
     "output_type": "execute_result"
    }
   ],
   "source": [
    "#fit and transform\n",
    "a.isna().sum()\n",
    "from sklearn.impute import SimpleImputer\n",
    "imputer=SimpleImputer(fill_value=np.nan,strategy=\"mean\")\n",
    "x[:,1:3]=imputer.fit(x[:,1:3]) \n",
    "x"
   ]
  },
  {
   "cell_type": "code",
   "execution_count": null,
   "id": "55317437",
   "metadata": {},
   "outputs": [],
   "source": [
    "               #3   encode string values into 0 and 1"
   ]
  },
  {
   "cell_type": "code",
   "execution_count": 29,
   "id": "1720eefb",
   "metadata": {},
   "outputs": [
    {
     "data": {
      "text/plain": [
       "array([[1, SimpleImputer(fill_value=nan), SimpleImputer(fill_value=nan)],\n",
       "       [1, SimpleImputer(fill_value=nan), SimpleImputer(fill_value=nan)],\n",
       "       [0, SimpleImputer(fill_value=nan), SimpleImputer(fill_value=nan)],\n",
       "       ...,\n",
       "       [0, SimpleImputer(fill_value=nan), SimpleImputer(fill_value=nan)],\n",
       "       [1, SimpleImputer(fill_value=nan), SimpleImputer(fill_value=nan)],\n",
       "       [0, SimpleImputer(fill_value=nan), SimpleImputer(fill_value=nan)]],\n",
       "      dtype=object)"
      ]
     },
     "execution_count": 29,
     "metadata": {},
     "output_type": "execute_result"
    }
   ],
   "source": [
    "from sklearn.preprocessing import LabelEncoder\n",
    "label_encoder_x=LabelEncoder()\n",
    "x[:,0]=label_encoder_x.fit_transform(x[:,0]) #here 0 for index 0 which is age\n",
    "x #gender is converted into 0=female and 1=male"
   ]
  },
  {
   "cell_type": "code",
   "execution_count": 33,
   "id": "f51327e5",
   "metadata": {},
   "outputs": [
    {
     "data": {
      "text/plain": [
       "array([[1.0, 0.0, 1.0, SimpleImputer(fill_value=nan),\n",
       "        SimpleImputer(fill_value=nan)],\n",
       "       [1.0, 0.0, 1.0, SimpleImputer(fill_value=nan),\n",
       "        SimpleImputer(fill_value=nan)],\n",
       "       [0.0, 1.0, 0.0, SimpleImputer(fill_value=nan),\n",
       "        SimpleImputer(fill_value=nan)],\n",
       "       ...,\n",
       "       [0.0, 1.0, 0.0, SimpleImputer(fill_value=nan),\n",
       "        SimpleImputer(fill_value=nan)],\n",
       "       [1.0, 0.0, 1.0, SimpleImputer(fill_value=nan),\n",
       "        SimpleImputer(fill_value=nan)],\n",
       "       [0.0, 1.0, 0.0, SimpleImputer(fill_value=nan),\n",
       "        SimpleImputer(fill_value=nan)]], dtype=object)"
      ]
     },
     "execution_count": 33,
     "metadata": {},
     "output_type": "execute_result"
    }
   ],
   "source": [
    "from sklearn.preprocessing import OneHotEncoder\n",
    "from sklearn.compose import ColumnTransformer\n",
    "\n",
    "ct=ColumnTransformer([('Gender',OneHotEncoder(),[0])],remainder=\"passthrough\") #passthough for other column remain as it is\n",
    "x=ct.fit_transform(x) #So here if male=1,female=0 => or if female=1,male=1\n",
    "x #here you can see second column is opposite to first"
   ]
  },
  {
   "cell_type": "code",
   "execution_count": 36,
   "id": "6fdb0bfe",
   "metadata": {},
   "outputs": [],
   "source": [
    "      #4 split data set into training and testing with other set of data"
   ]
  },
  {
   "cell_type": "code",
   "execution_count": 40,
   "id": "60929398",
   "metadata": {},
   "outputs": [],
   "source": [
    "from sklearn.model_selection import train_test_split\n",
    "\n",
    "x_train,x_test,y_train,y_test=train_test_split(x,y,test_size=0.2) #x is dependent ,y is independent"
   ]
  },
  {
   "cell_type": "code",
   "execution_count": 41,
   "id": "099fe43a",
   "metadata": {},
   "outputs": [
    {
     "data": {
      "text/plain": [
       "array([[0.0, 1.0, 0.0, SimpleImputer(fill_value=nan),\n",
       "        SimpleImputer(fill_value=nan)],\n",
       "       [1.0, 0.0, 1.0, SimpleImputer(fill_value=nan),\n",
       "        SimpleImputer(fill_value=nan)],\n",
       "       [0.0, 1.0, 0.0, SimpleImputer(fill_value=nan),\n",
       "        SimpleImputer(fill_value=nan)],\n",
       "       ...,\n",
       "       [0.0, 1.0, 0.0, SimpleImputer(fill_value=nan),\n",
       "        SimpleImputer(fill_value=nan)],\n",
       "       [1.0, 0.0, 1.0, SimpleImputer(fill_value=nan),\n",
       "        SimpleImputer(fill_value=nan)],\n",
       "       [1.0, 0.0, 1.0, SimpleImputer(fill_value=nan),\n",
       "        SimpleImputer(fill_value=nan)]], dtype=object)"
      ]
     },
     "execution_count": 41,
     "metadata": {},
     "output_type": "execute_result"
    }
   ],
   "source": [
    "x_train"
   ]
  },
  {
   "cell_type": "code",
   "execution_count": null,
   "id": "f96a7c3a",
   "metadata": {},
   "outputs": [],
   "source": []
  }
 ],
 "metadata": {
  "kernelspec": {
   "display_name": "Python 3 (ipykernel)",
   "language": "python",
   "name": "python3"
  },
  "language_info": {
   "codemirror_mode": {
    "name": "ipython",
    "version": 3
   },
   "file_extension": ".py",
   "mimetype": "text/x-python",
   "name": "python",
   "nbconvert_exporter": "python",
   "pygments_lexer": "ipython3",
   "version": "3.9.7"
  }
 },
 "nbformat": 4,
 "nbformat_minor": 5
}
