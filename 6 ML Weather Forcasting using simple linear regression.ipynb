{
 "cells": [
  {
   "cell_type": "code",
   "execution_count": null,
   "id": "9d914414",
   "metadata": {},
   "outputs": [],
   "source": [
    "          #1 Convert CSV File values into array"
   ]
  },
  {
   "cell_type": "code",
   "execution_count": 2,
   "id": "f3694e41",
   "metadata": {},
   "outputs": [],
   "source": [
    "import pandas as pd\n",
    "import numpy as np\n",
    "import matplotlib.pyplot as plt\n",
    "data=pd.read_csv(\"C:\\\\Users\\\\user\\\\Downloads\\\\weather.csv\")"
   ]
  },
  {
   "cell_type": "code",
   "execution_count": 3,
   "id": "9d942d27",
   "metadata": {},
   "outputs": [
    {
     "data": {
      "text/plain": [
       "MinTemp           0\n",
       "MaxTemp           0\n",
       "Rainfall          0\n",
       "Evaporation       0\n",
       "Sunshine          3\n",
       "WindGustDir       3\n",
       "WindGustSpeed     2\n",
       "WindDir9am       31\n",
       "WindDir3pm        1\n",
       "WindSpeed9am      7\n",
       "WindSpeed3pm      0\n",
       "Humidity9am       0\n",
       "Humidity3pm       0\n",
       "Pressure9am       0\n",
       "Pressure3pm       0\n",
       "Cloud9am          0\n",
       "Cloud3pm          0\n",
       "Temp9am           0\n",
       "Temp3pm           0\n",
       "RainToday         0\n",
       "RISK_MM           0\n",
       "RainTomorrow      0\n",
       "dtype: int64"
      ]
     },
     "execution_count": 3,
     "metadata": {},
     "output_type": "execute_result"
    }
   ],
   "source": [
    "data.isna().sum()    #checking for nullvalue"
   ]
  },
  {
   "cell_type": "code",
   "execution_count": 4,
   "id": "c67bc5bb",
   "metadata": {},
   "outputs": [],
   "source": [
    "x=data[\"MinTemp\"].values"
   ]
  },
  {
   "cell_type": "code",
   "execution_count": 5,
   "id": "636ac1f7",
   "metadata": {},
   "outputs": [],
   "source": [
    "y=data[\"MaxTemp\"].values"
   ]
  },
  {
   "cell_type": "code",
   "execution_count": 6,
   "id": "1ef5e0a5",
   "metadata": {},
   "outputs": [],
   "source": [
    "x=x.reshape(-1,1)   #convert the values into 2D array\n",
    "y=y.reshape(-1,1)"
   ]
  },
  {
   "cell_type": "code",
   "execution_count": 7,
   "id": "46525860",
   "metadata": {},
   "outputs": [
    {
     "data": {
      "text/plain": [
       "Text(0, 0.5, 'MaxTemp')"
      ]
     },
     "execution_count": 7,
     "metadata": {},
     "output_type": "execute_result"
    },
    {
     "data": {
      "image/png": "[encoded data removed]",
      "text/plain": [
       "<Figure size 432x288 with 1 Axes>"
      ]
     },
     "metadata": {
      "needs_background": "light"
     },
     "output_type": "display_data"
    }
   ],
   "source": [
    "data.plot(x=\"MinTemp\",y=\"MaxTemp\",style=\"o\")\n",
    "plt.xlabel(\"MinTemp\")\n",
    "plt.ylabel(\"MaxTemp\")"
   ]
  },
  {
   "cell_type": "code",
   "execution_count": 8,
   "id": "4d64f42d",
   "metadata": {},
   "outputs": [],
   "source": [
    "from sklearn.model_selection import train_test_split\n",
    "\n",
    "x_train,x_test,y_train,y_test=train_test_split(x,y,test_size=0.2,random_state=0) #randomstate will give a fixed value everytime"
   ]
  },
  {
   "cell_type": "code",
   "execution_count": 12,
   "id": "ab34256e",
   "metadata": {},
   "outputs": [],
   "source": [
    "              # put into Linear regression"
   ]
  },
  {
   "cell_type": "code",
   "execution_count": 8,
   "id": "da859abe",
   "metadata": {},
   "outputs": [],
   "source": [
    "from sklearn.linear_model import LinearRegression"
   ]
  },
  {
   "cell_type": "code",
   "execution_count": 9,
   "id": "c3b6fd4e",
   "metadata": {},
   "outputs": [],
   "source": [
    "lr=LinearRegression()"
   ]
  },
  {
   "cell_type": "code",
   "execution_count": 10,
   "id": "e65d07e8",
   "metadata": {},
   "outputs": [
    {
     "data": {
      "text/plain": [
       "LinearRegression()"
      ]
     },
     "execution_count": 10,
     "metadata": {},
     "output_type": "execute_result"
    }
   ],
   "source": [
    "lr.fit(x_train,y_train)    #so we have created a model here #it make the algorithm learn"
   ]
  },
  {
   "cell_type": "code",
   "execution_count": 11,
   "id": "091e4b41",
   "metadata": {},
   "outputs": [
    {
     "name": "stdout",
     "output_type": "stream",
     "text": [
      "[14.56202411]\n"
     ]
    }
   ],
   "source": [
    "print(lr.intercept_)"
   ]
  },
  {
   "cell_type": "code",
   "execution_count": 12,
   "id": "bcd5597f",
   "metadata": {},
   "outputs": [
    {
     "name": "stdout",
     "output_type": "stream",
     "text": [
      "[[0.81953755]]\n"
     ]
    }
   ],
   "source": [
    "print(lr.coef_)"
   ]
  },
  {
   "cell_type": "code",
   "execution_count": 13,
   "id": "554d975b",
   "metadata": {},
   "outputs": [
    {
     "data": {
      "text/plain": [
       "23.167168384999997"
      ]
     },
     "execution_count": 13,
     "metadata": {},
     "output_type": "execute_result"
    }
   ],
   "source": [
    "#y=a+bx\n",
    "y=14.56202411 + (0.81953755 * 10.5) #this is for maxtemp  #10.5 is just a random number at minimum temperature\n",
    "y"
   ]
  },
  {
   "cell_type": "code",
   "execution_count": 14,
   "id": "bf9c6a9e",
   "metadata": {},
   "outputs": [
    {
     "data": {
      "text/plain": [
       "array([[23.16716839]])"
      ]
     },
     "execution_count": 14,
     "metadata": {},
     "output_type": "execute_result"
    }
   ],
   "source": [
    "y=lr.predict([[10.5]]) #we have to predict maxtemp when mintemp=10.5\n",
    "y"
   ]
  },
  {
   "cell_type": "code",
   "execution_count": 16,
   "id": "bce36bf7",
   "metadata": {},
   "outputs": [
    {
     "data": {
      "text/plain": [
       "array([[23.41302965],\n",
       "       [13.08685652],\n",
       "       [27.26485614],\n",
       "       [25.46187353],\n",
       "       [26.93704112],\n",
       "       [20.0529257 ],\n",
       "       [29.31370001],\n",
       "       [13.82444032],\n",
       "       [17.43040554],\n",
       "       [19.56120317],\n",
       "       [20.87246325],\n",
       "       [25.21601226],\n",
       "       [16.44696048],\n",
       "       [16.44696048],\n",
       "       [13.33271779],\n",
       "       [16.36500672],\n",
       "       [16.52891423],\n",
       "       [22.01981582],\n",
       "       [20.62660198],\n",
       "       [23.98670594],\n",
       "       [24.06865969],\n",
       "       [18.08603558],\n",
       "       [27.18290238],\n",
       "       [14.56202411],\n",
       "       [14.3981166 ],\n",
       "       [12.43122648],\n",
       "       [28.08439369],\n",
       "       [26.36336483],\n",
       "       [24.970151  ],\n",
       "       [15.79133044],\n",
       "       [22.83935337],\n",
       "       [21.85590831],\n",
       "       [24.72428973],\n",
       "       [28.08439369],\n",
       "       [23.82279843],\n",
       "       [19.64315692],\n",
       "       [25.8716423 ],\n",
       "       [25.46187353],\n",
       "       [12.7590415 ],\n",
       "       [28.2483012 ],\n",
       "       [14.31616285],\n",
       "       [14.97179289],\n",
       "       [13.82444032],\n",
       "       [15.62742293],\n",
       "       [27.10094863],\n",
       "       [17.92212807],\n",
       "       [15.05374664],\n",
       "       [18.33189684],\n",
       "       [13.33271779],\n",
       "       [24.47842847],\n",
       "       [19.15143439],\n",
       "       [18.08603558],\n",
       "       [15.29960791],\n",
       "       [20.38074072],\n",
       "       [27.67462491],\n",
       "       [22.5934921 ],\n",
       "       [22.10176957],\n",
       "       [25.8716423 ],\n",
       "       [29.23174626],\n",
       "       [29.23174626],\n",
       "       [17.18454427],\n",
       "       [13.25076403],\n",
       "       [21.36418578],\n",
       "       [23.08521463],\n",
       "       [20.954417  ],\n",
       "       [14.97179289],\n",
       "       [26.28141108],\n",
       "       [20.62660198],\n",
       "       [14.3981166 ],\n",
       "       [20.21683321],\n",
       "       [27.67462491],\n",
       "       [21.44613953],\n",
       "       [24.970151  ],\n",
       "       [14.07030158]])"
      ]
     },
     "execution_count": 16,
     "metadata": {},
     "output_type": "execute_result"
    }
   ],
   "source": [
    "y_pred=lr.predict(x_test)\n",
    "y_pred     #it will give all predicted values"
   ]
  },
  {
   "cell_type": "code",
   "execution_count": 17,
   "id": "032fd820",
   "metadata": {},
   "outputs": [],
   "source": [
    "df=pd.DataFrame(({\"Actual\":y_test.flatten(),'Predicted':y_pred.flatten()}))\n"
   ]
  },
  {
   "cell_type": "code",
   "execution_count": 18,
   "id": "7d0209b9",
   "metadata": {},
   "outputs": [
    {
     "data": {
      "text/plain": [
       "[<matplotlib.lines.Line2D at 0x1cd5c3057f0>]"
      ]
     },
     "execution_count": 18,
     "metadata": {},
     "output_type": "execute_result"
    },
    {
     "data": {
      "image/png": "[encoded data removed]",
      "text/plain": [
       "<Figure size 432x288 with 1 Axes>"
      ]
     },
     "metadata": {
      "needs_background": "light"
     },
     "output_type": "display_data"
    }
   ],
   "source": [
    "plt.scatter(x_test,y_test,color=\"gray\")\n",
    "plt.plot(x_test,y_pred,color=\"red\")"
   ]
  },
  {
   "cell_type": "code",
   "execution_count": 19,
   "id": "abba7cfa",
   "metadata": {},
   "outputs": [],
   "source": [
    "from sklearn import metrics"
   ]
  },
  {
   "cell_type": "code",
   "execution_count": 20,
   "id": "11cd407e",
   "metadata": {},
   "outputs": [
    {
     "name": "stdout",
     "output_type": "stream",
     "text": [
      "3.5094353112899594\n"
     ]
    }
   ],
   "source": [
    "print(metrics.mean_absolute_error(y_test,y_pred))"
   ]
  },
  {
   "cell_type": "code",
   "execution_count": 39,
   "id": "a65b4e58",
   "metadata": {},
   "outputs": [
    {
     "name": "stdout",
     "output_type": "stream",
     "text": [
      "3.5094353112899594\n"
     ]
    }
   ],
   "source": [
    "print(metrics.mean_absolute_error(y_test,y_pred))"
   ]
  },
  {
   "cell_type": "code",
   "execution_count": 40,
   "id": "3afe97ea",
   "metadata": {},
   "outputs": [
    {
     "name": "stdout",
     "output_type": "stream",
     "text": [
      "17.011877668640622\n"
     ]
    }
   ],
   "source": [
    "print(metrics.mean_squared_error(y_test,y_pred))"
   ]
  },
  {
   "cell_type": "code",
   "execution_count": 44,
   "id": "06ee6845",
   "metadata": {},
   "outputs": [
    {
     "name": "stdout",
     "output_type": "stream",
     "text": [
      "4.124545753006096\n"
     ]
    }
   ],
   "source": [
    "print(np.sqrt(metrics.mean_squared_error(y_test,y_pred)))"
   ]
  },
  {
   "cell_type": "code",
   "execution_count": null,
   "id": "399307d3",
   "metadata": {},
   "outputs": [],
   "source": []
  }
 ],
 "metadata": {
  "kernelspec": {
   "display_name": "Python 3",
   "language": "python",
   "name": "python3"
  },
  "language_info": {
   "codemirror_mode": {
    "name": "ipython",
    "version": 3
   },
   "file_extension": ".py",
   "mimetype": "text/x-python",
   "name": "python",
   "nbconvert_exporter": "python",
   "pygments_lexer": "ipython3",
   "version": "3.6.13"
  }
 },
 "nbformat": 4,
 "nbformat_minor": 5
}
